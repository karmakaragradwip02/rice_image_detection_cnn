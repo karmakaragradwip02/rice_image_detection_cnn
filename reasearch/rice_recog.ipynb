{
 "cells": [
  {
   "cell_type": "code",
   "execution_count": 1,
   "id": "b7489209",
   "metadata": {},
   "outputs": [],
   "source": [
    "import os\n",
    "import tensorflow as tf\n",
    "import mlflow\n",
    "import mlflow.keras\n",
    "from sklearn.metrics import precision_score, recall_score, accuracy_score\n",
    "import numpy as np\n",
    "from keras.preprocessing.image import ImageDataGenerator"
   ]
  },
  {
   "cell_type": "code",
   "execution_count": 3,
   "id": "aa792a58",
   "metadata": {},
   "outputs": [
    {
     "name": "stdout",
     "output_type": "stream",
     "text": [
      "Found 60000 images belonging to 5 classes.\n"
     ]
    }
   ],
   "source": [
    "#image augmentation\n",
    "train_datagen = ImageDataGenerator(\n",
    "          rescale=1./255,\n",
    "          shear_range=0.2,\n",
    "          zoom_range=0.2,\n",
    "          horizontal_flip=True)\n",
    "training_set = train_datagen.flow_from_directory(\n",
    "          'E:/Deep Learning/TENSORFLOW/rice_image_detection/output_dataset/train',\n",
    "          target_size=(64, 64),\n",
    "          batch_size=32)"
   ]
  },
  {
   "cell_type": "code",
   "execution_count": 4,
   "id": "b89468ce",
   "metadata": {},
   "outputs": [
    {
     "name": "stdout",
     "output_type": "stream",
     "text": [
      "Found 15000 images belonging to 5 classes.\n"
     ]
    }
   ],
   "source": [
    "test_datagen = ImageDataGenerator(rescale=1./255)\n",
    "test_set = test_datagen.flow_from_directory(\n",
    "          'E:/Deep Learning/TENSORFLOW/rice_image_detection/output_dataset/test',\n",
    "          target_size=(64, 64),\n",
    "          batch_size=32)"
   ]
  },
  {
   "cell_type": "code",
   "execution_count": 5,
   "id": "532ff150",
   "metadata": {},
   "outputs": [
    {
     "data": {
      "text/plain": [
       "<Experiment: artifact_location='mlflow-artifacts:/3d9fa9ea225b44c187c7461de0ea5637', creation_time=1718721506518, experiment_id='0', last_update_time=1718721506518, lifecycle_stage='active', name='CNN Classifier', tags={}>"
      ]
     },
     "execution_count": 5,
     "metadata": {},
     "output_type": "execute_result"
    }
   ],
   "source": [
    "MLFLOW_TRACKING_URI = \"https://dagshub.com/karmakaragradwip02/rice_image_detection_cnn.mlflow\"\n",
    "os.environ['MLFLOW_TRACKING_URI'] = MLFLOW_TRACKING_URI\n",
    "os.environ['MLFLOW_TRACKING_USERNAME'] = 'karmakaragradwip02'\n",
    "os.environ['MLFLOW_TRACKING_PASSWORD'] = '9ccb0f28354fcca6469017b32544fa0704b9c343'\n",
    "\n",
    "mlflow.set_tracking_uri(MLFLOW_TRACKING_URI)\n",
    "mlflow.set_experiment(\"CNN Classifier\")"
   ]
  },
  {
   "cell_type": "code",
   "execution_count": 7,
   "id": "b15fff0d",
   "metadata": {},
   "outputs": [],
   "source": [
    "weight_decay = 1e-4  # Weight decay factor\n",
    "learning_rate = 1e-3  # Custom learning rate"
   ]
  },
  {
   "cell_type": "code",
   "execution_count": 8,
   "id": "588e9e41",
   "metadata": {},
   "outputs": [],
   "source": [
    "cnn = tf.keras.models.Sequential([\n",
    "    tf.keras.layers.Conv2D(filters=32, kernel_size=3, activation='relu', input_shape=[64, 64, 3],\n",
    "                           kernel_regularizer=tf.keras.regularizers.l2(weight_decay)),\n",
    "    tf.keras.layers.MaxPool2D(pool_size=2, strides=2),\n",
    "    tf.keras.layers.Conv2D(filters=32, kernel_size=3, activation='relu',\n",
    "                           kernel_regularizer=tf.keras.regularizers.l2(weight_decay)),\n",
    "    tf.keras.layers.MaxPool2D(pool_size=2, strides=2),\n",
    "    tf.keras.layers.Flatten(),\n",
    "    tf.keras.layers.Dense(units=128, activation='relu',\n",
    "                          kernel_regularizer=tf.keras.regularizers.l2(weight_decay)),\n",
    "    tf.keras.layers.Dense(5, activation='sigmoid')\n",
    "])\n",
    "\n",
    "optimizer = tf.keras.optimizers.Adam(learning_rate=learning_rate)\n",
    "\n",
    "cnn.compile(optimizer=optimizer, loss='categorical_crossentropy', metrics=['accuracy'])"
   ]
  },
  {
   "cell_type": "code",
   "execution_count": 9,
   "id": "1d2189e1",
   "metadata": {},
   "outputs": [
    {
     "name": "stdout",
     "output_type": "stream",
     "text": [
      "Epoch 1/5\n",
      "1875/1875 [==============================] - 745s 396ms/step - loss: 0.2534 - accuracy: 0.9113 - val_loss: 0.0818 - val_accuracy: 0.9823\n",
      "Epoch 2/5\n",
      "1875/1875 [==============================] - 291s 155ms/step - loss: 0.1173 - accuracy: 0.9697 - val_loss: 0.0734 - val_accuracy: 0.9855\n",
      "Epoch 3/5\n",
      "1875/1875 [==============================] - 297s 158ms/step - loss: 0.0943 - accuracy: 0.9782 - val_loss: 0.0501 - val_accuracy: 0.9932\n",
      "Epoch 4/5\n",
      "1875/1875 [==============================] - 312s 166ms/step - loss: 0.0833 - accuracy: 0.9809 - val_loss: 0.0528 - val_accuracy: 0.9921\n",
      "Epoch 5/5\n",
      "1875/1875 [==============================] - 294s 157ms/step - loss: 0.0744 - accuracy: 0.9841 - val_loss: 0.0777 - val_accuracy: 0.9834\n",
      "469/469 [==============================] - 27s 57ms/step\n",
      "Exception during training: axis 1 is out of bounds for array of dimension 1\n"
     ]
    }
   ],
   "source": [
    "with mlflow.start_run() as run:\n",
    "    try:\n",
    "        mlflow.log_param('weight_decay', weight_decay)\n",
    "        mlflow.log_param('learning_rate', learning_rate)\n",
    "        mlflow.log_param('epochs', 5)\n",
    "        # Fit the model\n",
    "        history = cnn.fit(x=training_set, validation_data=test_set, epochs=5)\n",
    "\n",
    "        # Get predictions\n",
    "        y_pred = np.argmax(cnn.predict(test_set), axis=1)\n",
    "        y_true = np.argmax(test_set.labels, axis=1)\n",
    "\n",
    "        # Calculate precision and recall\n",
    "        precision = precision_score(y_true, y_pred, average='macro')\n",
    "        recall = recall_score(y_true, y_pred, average='macro')\n",
    "        accuracy = accuracy_score(y_true, y_pred)\n",
    "        \n",
    "        # Log metrics\n",
    "        mlflow.log_metric('accuracy', accuracy)\n",
    "        mlflow.log_metric('precision', precision)\n",
    "        mlflow.log_metric('recall', recall)\n",
    "\n",
    "        # Log the entire training history\n",
    "        # Log the entire training history\n",
    "        for epoch in range(len(history.history['accuracy'])):\n",
    "            mlflow.log_metric('train_accuracy', history.history['accuracy'][epoch], step=epoch)\n",
    "            mlflow.log_metric('val_accuracy', history.history['val_accuracy'][epoch], step=epoch)\n",
    "            mlflow.log_metric('train_loss', history.history['loss'][epoch], step=epoch)\n",
    "            mlflow.log_metric('val_loss', history.history['val_loss'][epoch], step=epoch)\n",
    "        \n",
    "        mlflow.pytorch.log_model(cnn, \"model\")\n",
    "    except Exception as e:\n",
    "        print(f\"Exception during training: {e}\")\n",
    "    finally:\n",
    "        mlflow.end_run()"
   ]
  }
 ],
 "metadata": {
  "kernelspec": {
   "display_name": "Python 3 (ipykernel)",
   "language": "python",
   "name": "python3"
  },
  "language_info": {
   "codemirror_mode": {
    "name": "ipython",
    "version": 3
   },
   "file_extension": ".py",
   "mimetype": "text/x-python",
   "name": "python",
   "nbconvert_exporter": "python",
   "pygments_lexer": "ipython3",
   "version": "3.9.19"
  }
 },
 "nbformat": 4,
 "nbformat_minor": 5
}
