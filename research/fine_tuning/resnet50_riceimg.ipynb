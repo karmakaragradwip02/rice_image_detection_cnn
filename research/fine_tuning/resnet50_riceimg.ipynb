{
  "cells": [
    {
      "cell_type": "code",
      "execution_count": 1,
      "metadata": {
        "id": "iwWddeoE4hgc"
      },
      "outputs": [],
      "source": [
        "import os\n",
        "import mlflow\n",
        "import mlflow.keras\n",
        "import tensorflow as tf\n",
        "from sklearn.metrics import precision_score, recall_score, accuracy_score, f1_score, cohen_kappa_score\n",
        "import numpy as np"
      ]
    },
    {
      "cell_type": "code",
      "execution_count": 6,
      "metadata": {
        "id": "gHEsYD2O4mFr"
      },
      "outputs": [],
      "source": [
        "def datagen():\n",
        "    train_datagen = tf.keras.preprocessing.image.ImageDataGenerator(\n",
        "        rescale=1./255,\n",
        "        shear_range=0.2,\n",
        "        zoom_range=0.2,\n",
        "        horizontal_flip=True)\n",
        "    test_datagen = tf.keras.preprocessing.image.ImageDataGenerator(rescale=1./255)\n",
        "    return train_datagen, test_datagen"
      ]
    },
    {
      "cell_type": "code",
      "execution_count": 7,
      "metadata": {
        "id": "tRgpSL5v4n6z"
      },
      "outputs": [],
      "source": [
        "def train_test_set(train_datagen, test_datagen, train_path, test_path):\n",
        "    training_set = train_datagen.flow_from_directory(\n",
        "        train_path,\n",
        "        target_size=(224, 224),  # ResNet50 default input size\n",
        "        batch_size=32,\n",
        "        class_mode='categorical')\n",
        "    test_set = test_datagen.flow_from_directory(\n",
        "        test_path,\n",
        "        target_size=(224, 224),  # ResNet50 default input size\n",
        "        batch_size=32,\n",
        "        class_mode='categorical',\n",
        "        shuffle=False)  # Ensure the order of the test set remains the same\n",
        "    return training_set, test_set"
      ]
    },
    {
      "cell_type": "code",
      "execution_count": 8,
      "metadata": {
        "id": "SDZvtyRZ4tjU"
      },
      "outputs": [],
      "source": [
        "def fine_tune_resnet50(train_path, test_path, epochs=5, learning_rate=1e-4):\n",
        "    base_model = tf.keras.applications.ResNet50(weights='imagenet', include_top=False, input_shape=(224, 224, 3))\n",
        "\n",
        "    # Freeze all layers in the base ResNet50 model\n",
        "    for layer in base_model.layers:\n",
        "        layer.trainable = False\n",
        "\n",
        "    # Add custom top layers for classification\n",
        "    x = base_model.output\n",
        "    x = tf.keras.layers.GlobalAveragePooling2D()(x)\n",
        "    x = tf.keras.layers.Dense(128, activation='relu')(x)\n",
        "    predictions = tf.keras.layers.Dense(5, activation='softmax')(x)\n",
        "\n",
        "    # Create the full model\n",
        "    model = tf.keras.models.Model(inputs=base_model.input, outputs=predictions)\n",
        "\n",
        "    # Compile the model\n",
        "    optimizer = tf.keras.optimizers.Adam(lr=learning_rate)\n",
        "    model.compile(optimizer=optimizer, loss='categorical_crossentropy', metrics=['accuracy'])\n",
        "\n",
        "    # Data generators\n",
        "    train_datagen, test_datagen = datagen()\n",
        "\n",
        "    # Ensure directories exist\n",
        "    if not os.path.exists(train_path):\n",
        "        raise FileNotFoundError(f\"Training directory not found: {train_path}\")\n",
        "    if not os.path.exists(test_path):\n",
        "        raise FileNotFoundError(f\"Test directory not found: {test_path}\")\n",
        "\n",
        "    training_set, test_set = train_test_set(train_datagen, test_datagen, train_path, test_path)\n",
        "\n",
        "    print(\"---------------------------- Fine-tuning ResNet50 model ----------------------------\")\n",
        "    with mlflow.start_run() as run:\n",
        "        try:\n",
        "            mlflow.log_param('base_model', 'ResNet50')\n",
        "            mlflow.log_param('learning_rate', learning_rate)\n",
        "            mlflow.log_param('epochs', epochs)\n",
        "\n",
        "            # Fine-tune the model\n",
        "            history = model.fit(x=training_set, validation_data=test_set, epochs=epochs)\n",
        "\n",
        "            # Evaluate the model\n",
        "            y_pred = np.argmax(model.predict(test_set), axis=1)\n",
        "            y_true = test_set.classes\n",
        "\n",
        "            # Calculate metrics\n",
        "            precision = precision_score(y_true, y_pred, average='macro')\n",
        "            recall = recall_score(y_true, y_pred, average='macro')\n",
        "            accuracy = accuracy_score(y_true, y_pred)\n",
        "            f1 = f1_score(y_true, y_pred, average='macro')\n",
        "            kappa = cohen_kappa_score(y_true, y_pred)\n",
        "\n",
        "            # Log metrics\n",
        "            mlflow.log_metric('accuracy', accuracy)\n",
        "            mlflow.log_metric('precision', precision)\n",
        "            mlflow.log_metric('recall', recall)\n",
        "            mlflow.log_metric('f1 score', f1)\n",
        "            mlflow.log_metric('kappa', kappa)\n",
        "\n",
        "            print(\"Accuracy:\", accuracy)\n",
        "            print(\"Precision:\", precision)\n",
        "            print(\"Recall:\", recall)\n",
        "            print(\"F1 Score:\", f1)\n",
        "            print(\"Cohen's Kappa:\", kappa)\n",
        "\n",
        "            mlflow.keras.log_model(model, \"ResNet50_model\")\n",
        "        except Exception as e:\n",
        "            print(f\"Exception during fine-tuning: {e}\")\n",
        "        finally:\n",
        "            mlflow.end_run()\n",
        "        print(\"---------------------------- Fine-tuning ended ----------------------------\")"
      ]
    },
    {
      "cell_type": "code",
      "execution_count": 9,
      "metadata": {
        "colab": {
          "base_uri": "https://localhost:8080/"
        },
        "id": "Sf3aJb54adOR",
        "outputId": "7d68f14b-d509-443e-e31a-c774d6b0fe13"
      },
      "outputs": [
        {
          "name": "stdout",
          "output_type": "stream",
          "text": [
            "---------------------------Starting---------------------------\n",
            "mlflow tracking set\n",
            "---------------------------Mlflow URI set---------------------------------------\n",
            "Downloading data from https://storage.googleapis.com/tensorflow/keras-applications/resnet/resnet50_weights_tf_dim_ordering_tf_kernels_notop.h5\n",
            "94765736/94765736 [==============================] - 0s 0us/step\n"
          ]
        },
        {
          "name": "stderr",
          "output_type": "stream",
          "text": [
            "WARNING:absl:`lr` is deprecated in Keras optimizer, please use `learning_rate` or use the legacy optimizer, e.g.,tf.keras.optimizers.legacy.Adam.\n"
          ]
        },
        {
          "name": "stdout",
          "output_type": "stream",
          "text": [
            "Found 60000 images belonging to 5 classes.\n",
            "Found 15000 images belonging to 5 classes.\n",
            "---------------------------- Fine-tuning ResNet50 model ----------------------------\n",
            "Epoch 1/5\n",
            "1875/1875 [==============================] - 813s 429ms/step - loss: 0.4637 - accuracy: 0.8135 - val_loss: 0.2400 - val_accuracy: 0.9175\n",
            "Epoch 2/5\n",
            "1875/1875 [==============================] - 803s 428ms/step - loss: 0.3087 - accuracy: 0.8730 - val_loss: 0.2524 - val_accuracy: 0.8906\n",
            "Epoch 3/5\n",
            "1875/1875 [==============================] - 794s 423ms/step - loss: 0.2799 - accuracy: 0.8863 - val_loss: 0.1938 - val_accuracy: 0.9318\n",
            "Epoch 4/5\n",
            "1875/1875 [==============================] - 803s 428ms/step - loss: 0.2560 - accuracy: 0.8971 - val_loss: 0.2513 - val_accuracy: 0.9120\n",
            "Epoch 5/5\n",
            "1875/1875 [==============================] - 790s 421ms/step - loss: 0.2475 - accuracy: 0.9008 - val_loss: 0.1708 - val_accuracy: 0.9379\n",
            "469/469 [==============================] - 49s 102ms/step\n"
          ]
        },
        {
          "name": "stderr",
          "output_type": "stream",
          "text": [
            "2024/06/21 05:35:58 WARNING mlflow.tensorflow: You are saving a TensorFlow Core model or Keras model without a signature. Inference with mlflow.pyfunc.spark_udf() will not work unless the model's pyfunc representation accepts pandas DataFrames as inference inputs.\n"
          ]
        },
        {
          "name": "stdout",
          "output_type": "stream",
          "text": [
            "Accuracy: 0.9379333333333333\n",
            "Precision: 0.938158920806049\n",
            "Recall: 0.9379333333333333\n",
            "F1 Score: 0.937580145924579\n",
            "Cohen's Kappa: 0.9224166666666667\n"
          ]
        },
        {
          "name": "stderr",
          "output_type": "stream",
          "text": [
            "/usr/local/lib/python3.10/dist-packages/_distutils_hack/__init__.py:33: UserWarning: Setuptools is replacing distutils.\n",
            "  warnings.warn(\"Setuptools is replacing distutils.\")\n"
          ]
        },
        {
          "name": "stdout",
          "output_type": "stream",
          "text": [
            "---------------------------- Fine-tuning ended ----------------------------\n"
          ]
        }
      ],
      "source": [
        "if __name__ == '__main__':\n",
        "    print(\"---------------------------Starting---------------------------\")\n",
        "    MLFLOW_TRACKING_URI = \"https://dagshub.com/karmakaragradwip02/rice_image_detection_cnn.mlflow\"\n",
        "    os.environ['MLFLOW_TRACKING_URI'] = MLFLOW_TRACKING_URI\n",
        "    os.environ['MLFLOW_TRACKING_USERNAME'] = 'karmakaragradwip02'\n",
        "    os.environ['MLFLOW_TRACKING_PASSWORD'] = '9ccb0f28354fcca6469017b32544fa0704b9c343'\n",
        "\n",
        "    mlflow.set_tracking_uri(MLFLOW_TRACKING_URI)\n",
        "    mlflow.set_experiment(\"CNN Classifier\")\n",
        "    print(\"mlflow tracking set\")\n",
        "    print(\"---------------------------Mlflow URI set---------------------------------------\")\n",
        "    train_path = '/content/output_dataset/train'\n",
        "    test_path = '/content/output_dataset/test'\n",
        "    fine_tune_resnet50(train_path, test_path)\n"
      ]
    }
  ],
  "metadata": {
    "accelerator": "GPU",
    "colab": {
      "gpuType": "T4",
      "provenance": []
    },
    "kernelspec": {
      "display_name": "Python 3",
      "name": "python3"
    },
    "language_info": {
      "codemirror_mode": {
        "name": "ipython",
        "version": 3
      },
      "file_extension": ".py",
      "mimetype": "text/x-python",
      "name": "python",
      "nbconvert_exporter": "python",
      "pygments_lexer": "ipython3",
      "version": "3.9.0"
    }
  },
  "nbformat": 4,
  "nbformat_minor": 0
}
