{
 "cells": [
  {
   "cell_type": "code",
   "execution_count": 1,
   "metadata": {},
   "outputs": [
    {
     "data": {
      "text/plain": [
       "'e:\\\\Deep Learning\\\\TENSORFLOW\\\\rice_image_detection'"
      ]
     },
     "execution_count": 1,
     "metadata": {},
     "output_type": "execute_result"
    }
   ],
   "source": [
    "import os\n",
    "os.chdir(\"../\")\n",
    "%pwd"
   ]
  },
  {
   "cell_type": "code",
   "execution_count": 2,
   "metadata": {},
   "outputs": [],
   "source": [
    "import mlflow"
   ]
  },
  {
   "cell_type": "code",
   "execution_count": 3,
   "metadata": {},
   "outputs": [],
   "source": [
    "MLFLOW_TRACKING_URI = \"https://dagshub.com/karmakaragradwip02/rice_image_detection_cnn.mlflow\"\n",
    "os.environ['MLFLOW_TRACKING_URI'] = MLFLOW_TRACKING_URI\n",
    "os.environ['MLFLOW_TRACKING_USERNAME'] = 'karmakaragradwip02'\n",
    "os.environ['MLFLOW_TRACKING_PASSWORD'] = '9ccb0f28354fcca6469017b32544fa0704b9c343'\n",
    "\n",
    "mlflow.set_tracking_uri(MLFLOW_TRACKING_URI)"
   ]
  },
  {
   "cell_type": "code",
   "execution_count": 4,
   "metadata": {},
   "outputs": [],
   "source": [
    "from dataclasses import dataclass\n",
    "from pathlib import Path\n",
    "@dataclass(frozen= True)\n",
    "class ModelEvaluationConfig:\n",
    "    root_dir: Path\n",
    "    trained_model_dir: Path\n",
    "    val_dir: Path\n",
    "    history_dir: Path\n",
    "    graph_dir: Path\n",
    "    mlflow_uri: str\n",
    "    all_params: dict"
   ]
  },
  {
   "cell_type": "code",
   "execution_count": 5,
   "metadata": {},
   "outputs": [],
   "source": [
    "import mlflow\n",
    "import mlflow.keras\n",
    "import tensorflow as tf"
   ]
  },
  {
   "cell_type": "code",
   "execution_count": 6,
   "metadata": {},
   "outputs": [],
   "source": [
    "from src.RICE_IMAGE_DETECTION.constants import *\n",
    "from src.RICE_IMAGE_DETECTION.utils.common import read_yaml, create_directories, save_json"
   ]
  },
  {
   "cell_type": "code",
   "execution_count": 7,
   "metadata": {},
   "outputs": [],
   "source": [
    "class ConfigureationManager:\n",
    "    def __init__(self,\n",
    "            config_filepath = CONFIG_FILE_PATH,\n",
    "            params_filepath = PARAMS_FILE_PATH):\n",
    "        \n",
    "        self.config = read_yaml(config_filepath)\n",
    "        self.params = read_yaml(params_filepath)\n",
    "\n",
    "        create_directories([self.config.artifacts_root])\n",
    "\n",
    "    def get_model_evaluation_config(self) -> ModelEvaluationConfig:\n",
    "        config = self.config.model_evaluation\n",
    "\n",
    "        create_directories([config.root_dir])\n",
    "\n",
    "        model_evaluation_config = ModelEvaluationConfig(\n",
    "            root_dir = Path(config.root_dir),\n",
    "            trained_model_dir = Path(config.trained_model_dir),\n",
    "            history_dir= Path(config.history_dir),\n",
    "            graph_dir = Path(config.graph_dir),\n",
    "            val_dir= Path(config.val_dir),\n",
    "            mlflow_uri=\"https://dagshub.com/karmakaragradwip02/rice_image_detection_cnn.mlflow\",\n",
    "            all_params=self.params\n",
    "        )\n",
    "\n",
    "        return model_evaluation_config"
   ]
  },
  {
   "cell_type": "code",
   "execution_count": 8,
   "metadata": {},
   "outputs": [],
   "source": [
    "import json\n",
    "import numpy as np\n",
    "from pathlib import Path\n",
    "from urllib.parse import urlparse\n",
    "import tensorflow as tf\n",
    "from keras.preprocessing.image import ImageDataGenerator\n",
    "from sklearn.metrics import precision_score, recall_score, accuracy_score, f1_score, cohen_kappa_score"
   ]
  },
  {
   "cell_type": "code",
   "execution_count": 9,
   "metadata": {},
   "outputs": [],
   "source": [
    "class ModelEvaluation:\n",
    "    def __init__(self, config: ModelEvaluationConfig):\n",
    "        self.config = config\n",
    "\n",
    "    def load_model(self):\n",
    "        return tf.keras.models.load_model(self.config.trained_model_dir)\n",
    "    \n",
    "    def val_set(self):\n",
    "        val_folder = self.config.val_dir\n",
    "        val_datagen = ImageDataGenerator(rescale=1./255)\n",
    "        val_set = val_datagen.flow_from_directory(\n",
    "            val_folder,\n",
    "            target_size=(64, 64),\n",
    "            batch_size=32,\n",
    "            class_mode='categorical',\n",
    "            shuffle=False)\n",
    "        return val_set\n",
    "    \n",
    "    def log_into_mlflow(self, model, val_set):\n",
    "        mlflow.set_registry_uri(self.config.mlflow_uri)\n",
    "        tracking_url_type_store = urlparse(mlflow.get_tracking_uri()).scheme\n",
    "        \n",
    "        # Read and parse the history data\n",
    "        history_path = Path(self.config.history_dir)\n",
    "        if history_path.is_file():\n",
    "            with history_path.open('r') as f:\n",
    "                history_data = json.load(f)\n",
    "                \n",
    "            # Log each epoch's metrics individually\n",
    "            with mlflow.start_run():\n",
    "                mlflow.log_params(self.config.all_params)\n",
    "                y_pred = np.argmax(model.predict(val_set), axis=1)\n",
    "                y_true = val_set.classes\n",
    "\n",
    "                # Calculate precision and recall\n",
    "                precision = precision_score(y_true, y_pred, average='macro')\n",
    "                recall = recall_score(y_true, y_pred, average='macro')\n",
    "                m_accuracy = accuracy_score(y_true, y_pred)\n",
    "                f1 = f1_score(y_true, y_pred, average='macro')\n",
    "                kappa = cohen_kappa_score(y_true, y_pred)\n",
    "                \n",
    "                # Log metrics\n",
    "                mlflow.log_metric('Model Accuracy', m_accuracy)\n",
    "                mlflow.log_metric('Model Precision', precision)\n",
    "                mlflow.log_metric('Model Recall', recall)\n",
    "                mlflow.log_metric('Model F1 Score', f1)\n",
    "                mlflow.log_metric('Model Kappa', kappa)\n",
    "\n",
    "                for epoch, (loss, accuracy, val_loss, val_accuracy) in enumerate(zip(\n",
    "                        history_data[\"loss\"],\n",
    "                        history_data[\"accuracy\"],\n",
    "                        history_data[\"val_loss\"],\n",
    "                        history_data[\"val_accuracy\"])):\n",
    "                    mlflow.log_metric(\"loss\", loss, step=epoch)\n",
    "                    mlflow.log_metric(\"accuracy\", accuracy, step=epoch)\n",
    "                    mlflow.log_metric(\"val_loss\", val_loss, step=epoch)\n",
    "                    mlflow.log_metric(\"val_accuracy\", val_accuracy, step=epoch)\n",
    "                if tracking_url_type_store != \"file\":\n",
    "                    mlflow.keras.log_model(model, \"model\", registered_model_name=\"custom_model\")\n",
    "                else:\n",
    "                    mlflow.keras.log_model(model, \"model\")"
   ]
  },
  {
   "cell_type": "code",
   "execution_count": 10,
   "metadata": {},
   "outputs": [
    {
     "name": "stdout",
     "output_type": "stream",
     "text": [
      "[2024-07-02 17:24:59,996: INFO: common: yaml file: config\\config.yaml loaded successfully]\n",
      "[2024-07-02 17:25:00,001: INFO: common: yaml file: params.yaml loaded successfully]\n",
      "[2024-07-02 17:25:00,003: INFO: common: created directory at: artifacts]\n",
      "[2024-07-02 17:25:00,004: INFO: common: created directory at: artifacts/evaluation]\n",
      "Found 15000 images belonging to 5 classes.\n",
      "469/469 [==============================] - 37s 77ms/step\n"
     ]
    },
    {
     "name": "stderr",
     "output_type": "stream",
     "text": [
      "2024/07/02 17:25:44 WARNING mlflow.tensorflow: You are saving a TensorFlow Core model or Keras model without a signature. Inference with mlflow.pyfunc.spark_udf() will not work unless the model's pyfunc representation accepts pandas DataFrames as inference inputs.\n"
     ]
    },
    {
     "name": "stdout",
     "output_type": "stream",
     "text": [
      "[2024-07-02 17:25:45,792: WARNING: save: Found untraced functions such as _jit_compiled_convolution_op, _jit_compiled_convolution_op, _update_step_xla while saving (showing 3 of 3). These functions will not be directly callable after loading.]\n",
      "INFO:tensorflow:Assets written to: C:\\Users\\Karma\\AppData\\Local\\Temp\\tmpdae1w7n3\\model\\data\\model\\assets\n",
      "[2024-07-02 17:25:46,426: INFO: builder_impl: Assets written to: C:\\Users\\Karma\\AppData\\Local\\Temp\\tmpdae1w7n3\\model\\data\\model\\assets]\n"
     ]
    },
    {
     "name": "stderr",
     "output_type": "stream",
     "text": [
      "c:\\Users\\Karma\\anaconda3\\envs\\tf_env\\lib\\site-packages\\_distutils_hack\\__init__.py:26: UserWarning: Setuptools is replacing distutils.\n",
      "  warnings.warn(\"Setuptools is replacing distutils.\")\n",
      "Registered model 'custom_model' already exists. Creating a new version of this model...\n",
      "2024/07/02 17:26:13 INFO mlflow.tracking._model_registry.client: Waiting up to 300 seconds for model version to finish creation.                     Model name: custom_model, version 4\n",
      "Created version '4' of model 'custom_model'.\n"
     ]
    }
   ],
   "source": [
    "try:\n",
    "    config = ConfigureationManager()\n",
    "    eval_config = config.get_model_evaluation_config()\n",
    "    evaluation = ModelEvaluation(eval_config)\n",
    "    model = evaluation.load_model()\n",
    "    val_set = evaluation.val_set()\n",
    "    evaluation.log_into_mlflow(model, val_set)\n",
    "except Exception as e:\n",
    "   raise e"
   ]
  }
 ],
 "metadata": {
  "kernelspec": {
   "display_name": "tf_env",
   "language": "python",
   "name": "python3"
  },
  "language_info": {
   "codemirror_mode": {
    "name": "ipython",
    "version": 3
   },
   "file_extension": ".py",
   "mimetype": "text/x-python",
   "name": "python",
   "nbconvert_exporter": "python",
   "pygments_lexer": "ipython3",
   "version": "3.9.0"
  }
 },
 "nbformat": 4,
 "nbformat_minor": 2
}
