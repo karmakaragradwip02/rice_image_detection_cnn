{
 "cells": [
  {
   "cell_type": "code",
   "execution_count": 1,
   "metadata": {},
   "outputs": [
    {
     "data": {
      "text/plain": [
       "'e:\\\\Deep Learning\\\\TENSORFLOW\\\\rice_image_detection'"
      ]
     },
     "execution_count": 1,
     "metadata": {},
     "output_type": "execute_result"
    }
   ],
   "source": [
    "import os\n",
    "os.chdir(\"../\")\n",
    "%pwd"
   ]
  },
  {
   "cell_type": "code",
   "execution_count": 2,
   "metadata": {},
   "outputs": [],
   "source": [
    "from dataclasses import dataclass\n",
    "from pathlib import Path\n",
    "@dataclass(frozen= True)\n",
    "class ModelTrainingConfig:\n",
    "    root_dir: Path\n",
    "    model_dir: Path\n",
    "    trained_model_dir: Path\n",
    "    history_dir: Path\n",
    "    epochs: int\n"
   ]
  },
  {
   "cell_type": "code",
   "execution_count": 3,
   "metadata": {},
   "outputs": [],
   "source": [
    "from src.RICE_IMAGE_DETECTION.constants import *\n",
    "from src.RICE_IMAGE_DETECTION.utils.common import read_yaml, create_directories"
   ]
  },
  {
   "cell_type": "code",
   "execution_count": 4,
   "metadata": {},
   "outputs": [],
   "source": [
    "class ConfigureationManager:\n",
    "    def __init__(self,\n",
    "            config_filepath = CONFIG_FILE_PATH,\n",
    "            params_filepath = PARAMS_FILE_PATH):\n",
    "        \n",
    "        self.config = read_yaml(config_filepath)\n",
    "        self.params = read_yaml(params_filepath)\n",
    "\n",
    "        create_directories([self.config.artifacts_root])\n",
    "\n",
    "    def get_model_training_config(self) -> ModelTrainingConfig:\n",
    "        config = self.config.training\n",
    "\n",
    "        create_directories([config.root_dir])\n",
    "\n",
    "        model_training_config = ModelTrainingConfig(\n",
    "            root_dir = Path(config.root_dir),\n",
    "            model_dir = Path(config.model_dir),\n",
    "            trained_model_dir = Path(config.trained_model_dir),\n",
    "            history_dir= Path(config.history_dir),\n",
    "            epochs = self.params.epochs,\n",
    "        )\n",
    "\n",
    "        return model_training_config"
   ]
  },
  {
   "cell_type": "code",
   "execution_count": 5,
   "metadata": {},
   "outputs": [],
   "source": [
    "import os\n",
    "import json\n",
    "import tensorflow as tf\n",
    "from tensorflow import keras\n",
    "from src.RICE_IMAGE_DETECTION import logger"
   ]
  },
  {
   "cell_type": "code",
   "execution_count": 6,
   "metadata": {},
   "outputs": [],
   "source": [
    "from src.RICE_IMAGE_DETECTION.components.data_preparation import DataPreparation\n",
    "from src.RICE_IMAGE_DETECTION.config.configuration import ConfigureationManager"
   ]
  },
  {
   "cell_type": "code",
   "execution_count": 7,
   "metadata": {},
   "outputs": [],
   "source": [
    "class ModelTraining:\n",
    "    def __init__(self, config: ModelTrainingConfig):\n",
    "        self.config = config\n",
    "\n",
    "    def get_model(self):\n",
    "        logger.info(\"-----------Model loaded from the model path----------\")\n",
    "        model_dir = self.config.model_dir\n",
    "        cnn = tf.keras.models.load_model(model_dir)\n",
    "        return cnn\n",
    "    \n",
    "    def train(self, model, training_set, test_set):\n",
    "        logger.info(\"-----------Model training is beginning----------\")\n",
    "        history = model.fit(training_set, epochs=1, validation_data=test_set)\n",
    "        logger.info(\"-----------Model training is ending----------\")\n",
    "        return model, history\n",
    "    \n",
    "    def save_model(self, model):\n",
    "        trained_model_dir = self.config.trained_model_dir\n",
    "        model.save(trained_model_dir)\n",
    "        logger.info(\"--------Model saved successfully--------\")\n",
    "\n",
    "    def save_history(self, history):\n",
    "        history_dir = self.config.history_dir\n",
    "        history_dict = history.history\n",
    "        \n",
    "        with open(history_dir, 'w') as f:\n",
    "            json.dump(history_dict, f)\n",
    "        \n",
    "        logger.info(f\"------History saved successfully at {history_dir}---------\")\n",
    "    def all_modules(self, model, history):\n",
    "        return model, history"
   ]
  },
  {
   "cell_type": "code",
   "execution_count": 8,
   "metadata": {},
   "outputs": [
    {
     "name": "stdout",
     "output_type": "stream",
     "text": [
      "[2024-07-01 15:35:53,562: INFO: common: yaml file: config\\config.yaml loaded successfully]\n",
      "[2024-07-01 15:35:53,562: INFO: common: yaml file: params.yaml loaded successfully]\n",
      "[2024-07-01 15:35:53,569: INFO: common: created directory at: artifacts]\n",
      "[2024-07-01 15:35:53,570: INFO: common: created directory at: artifacts/data_preparation]\n",
      "[2024-07-01 15:35:53,571: INFO: data_preparation: -------The train and test datagen created-------]\n"
     ]
    },
    {
     "name": "stdout",
     "output_type": "stream",
     "text": [
      "Found 60000 images belonging to 5 classes.\n",
      "Found 15000 images belonging to 5 classes.\n",
      "[2024-07-01 15:35:58,822: INFO: data_preparation: -------The test and train set created-------]\n",
      "[2024-07-01 15:35:58,823: INFO: common: created directory at: artifacts/training]\n",
      "[2024-07-01 15:35:58,823: INFO: 3736226327: -----------Model loaded from the model path----------]\n",
      "[2024-07-01 15:35:59,222: INFO: 3736226327: -----------Model training is beginning----------]\n",
      "1875/1875 [==============================] - 1373s 732ms/step - loss: 0.1649 - accuracy: 0.9587 - val_loss: 0.2316 - val_accuracy: 0.9259\n",
      "[2024-07-01 15:58:53,333: INFO: 3736226327: -----------Model training is ending----------]\n",
      "[2024-07-01 15:58:53,539: INFO: 3736226327: --------Model saved successfully--------]\n",
      "[2024-07-01 15:58:53,543: INFO: 3736226327: ------History saved successfully at artifacts\\training\\history.json---------]\n"
     ]
    }
   ],
   "source": [
    "try:\n",
    "    config = ConfigureationManager()\n",
    "    #data preparation\n",
    "    data_preparation_config = config.get_data_preparation_config()\n",
    "    data_preparation = DataPreparation(config=data_preparation_config)\n",
    "    training_set, test_set = data_preparation.train_test_set()\n",
    "    #model_training\n",
    "    model_training_config = config.get_model_training_config()\n",
    "    model_training = ModelTraining(config=model_training_config)\n",
    "    cnn = model_training.get_model()\n",
    "    trained_model, history = model_training.train(model=cnn, training_set=training_set, test_set=test_set)\n",
    "    model_training.save_model(model=trained_model)\n",
    "    model_training.save_history(history=history)\n",
    "    trained_model, history = model_training.all_modules(trained_model, history)\n",
    "except Exception as e:\n",
    "    raise e"
   ]
  }
 ],
 "metadata": {
  "kernelspec": {
   "display_name": "tf_env",
   "language": "python",
   "name": "python3"
  },
  "language_info": {
   "codemirror_mode": {
    "name": "ipython",
    "version": 3
   },
   "file_extension": ".py",
   "mimetype": "text/x-python",
   "name": "python",
   "nbconvert_exporter": "python",
   "pygments_lexer": "ipython3",
   "version": "3.9.0"
  }
 },
 "nbformat": 4,
 "nbformat_minor": 2
}
