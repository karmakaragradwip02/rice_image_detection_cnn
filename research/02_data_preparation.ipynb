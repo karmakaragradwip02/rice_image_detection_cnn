{
 "cells": [
  {
   "cell_type": "code",
   "execution_count": 1,
   "metadata": {},
   "outputs": [
    {
     "data": {
      "text/plain": [
       "'e:\\\\Deep Learning\\\\TENSORFLOW\\\\rice_image_detection'"
      ]
     },
     "execution_count": 1,
     "metadata": {},
     "output_type": "execute_result"
    }
   ],
   "source": [
    "import os\n",
    "os.chdir(\"../\")\n",
    "%pwd"
   ]
  },
  {
   "cell_type": "code",
   "execution_count": 2,
   "metadata": {},
   "outputs": [],
   "source": [
    "from pathlib import Path\n",
    "from dataclasses import dataclass\n",
    "\n",
    "@dataclass(frozen= True)\n",
    "class DataPreparationConfig:\n",
    "    root_dir: Path\n",
    "    data_dir: Path\n",
    "    train_dir: Path\n",
    "    test_dir: Path\n",
    "    val_dir: Path"
   ]
  },
  {
   "cell_type": "code",
   "execution_count": 3,
   "metadata": {},
   "outputs": [],
   "source": [
    "from src.RICE_IMAGE_DETECTION.constants import *\n",
    "from src.RICE_IMAGE_DETECTION.utils.common import read_yaml, create_directories"
   ]
  },
  {
   "cell_type": "code",
   "execution_count": 4,
   "metadata": {},
   "outputs": [],
   "source": [
    "class ConfigureationManager:\n",
    "    def __init__(self,\n",
    "            config_filepath = CONFIG_FILE_PATH,\n",
    "            params_filepath = PARAMS_FILE_PATH):\n",
    "        \n",
    "        self.config = read_yaml(config_filepath)\n",
    "        self.params = read_yaml(params_filepath)\n",
    "\n",
    "        create_directories([self.config.artifacts_root])\n",
    "\n",
    "    def get_data_preparation_config(self) -> DataPreparationConfig:\n",
    "        config = self.config.data_preparation\n",
    "\n",
    "        create_directories([config.root_dir])\n",
    "\n",
    "        data_preparation_config = DataPreparationConfig(\n",
    "            root_dir = config.root_dir,\n",
    "            data_dir = config.data_dir,\n",
    "            train_dir = config.train_dir,\n",
    "            test_dir = config.test_dir,\n",
    "            val_dir = config.val_dir\n",
    "        )\n",
    "\n",
    "        return data_preparation_config"
   ]
  },
  {
   "cell_type": "code",
   "execution_count": 5,
   "metadata": {},
   "outputs": [],
   "source": [
    "import os\n",
    "import shutil\n",
    "import tensorflow as tf\n",
    "from keras.preprocessing.image import ImageDataGenerator\n",
    "from sklearn.model_selection import train_test_split\n",
    "from src.RICE_IMAGE_DETECTION import logger"
   ]
  },
  {
   "cell_type": "code",
   "execution_count": 7,
   "metadata": {},
   "outputs": [],
   "source": [
    "import sys\n",
    "import time\n",
    "import threading"
   ]
  },
  {
   "cell_type": "code",
   "execution_count": 8,
   "metadata": {},
   "outputs": [],
   "source": [
    "class DataPreparation:\n",
    "    def __init__(self, config: DataPreparationConfig):\n",
    "        self.config = config\n",
    "        self.stop_animation = False\n",
    "        self.current_message = \"\"\n",
    "        self.animation_lock = threading.Lock()\n",
    "    \n",
    "    def making_traintest_folder(self):\n",
    "        try:\n",
    "            train_folder = self.config.train_dir\n",
    "            test_folder = self.config.test_dir\n",
    "            val_folder = self.config.val_dir\n",
    "            os.makedirs(train_folder, exist_ok=True)\n",
    "            os.makedirs(test_folder, exist_ok=True)\n",
    "            os.makedirs(val_folder, exist_ok=True)\n",
    "            logger.info(\"Created validation, test, and train folders\")\n",
    "        except Exception as e:\n",
    "            raise e\n",
    "\n",
    "    def animate(self):\n",
    "        symbols = ['-', '\\\\', '|', '/']\n",
    "        i = 0\n",
    "        while not self.stop_animation:\n",
    "            with self.animation_lock:\n",
    "                message = self.current_message\n",
    "            sys.stdout.write(f\"\\rSplitting the Data {symbols[i % len(symbols)]}\")\n",
    "            sys.stdout.flush()\n",
    "            time.sleep(0.1)\n",
    "            i += 1\n",
    "\n",
    "    def split_data(self):\n",
    "        data_path = self.config.data_dir\n",
    "        class_names = os.listdir(data_path)\n",
    "        train_folder = self.config.train_dir\n",
    "        test_folder = self.config.test_dir\n",
    "        val_folder = self.config.val_dir\n",
    "\n",
    "        self.stop_animation = False\n",
    "        animation_thread = threading.Thread(target=self.animate)\n",
    "        animation_thread.start()\n",
    "\n",
    "        try:\n",
    "            for class_name in class_names:\n",
    "                class_path = os.path.join(data_path, class_name)\n",
    "                if not os.path.isdir(class_path):\n",
    "                    continue\n",
    "\n",
    "                # List all files in the class directory\n",
    "                files = os.listdir(class_path)\n",
    "                files = [os.path.join(class_path, f) for f in files if os.path.isfile(os.path.join(class_path, f))]\n",
    "\n",
    "                # Split the files into training and the remaining set\n",
    "                train_files, remaining_files = train_test_split(files, test_size=0.3, random_state=42)\n",
    "                # Split the remaining files into validation and testing sets\n",
    "                val_files, test_files = train_test_split(remaining_files, test_size=1/3, random_state=42)\n",
    "\n",
    "                # Create class directories in train, validation, and test folders\n",
    "                train_class_folder = os.path.join(train_folder, class_name)\n",
    "                val_class_folder = os.path.join(val_folder, class_name)\n",
    "                test_class_folder = os.path.join(test_folder, class_name)\n",
    "                os.makedirs(train_class_folder, exist_ok=True)\n",
    "                os.makedirs(val_class_folder, exist_ok=True)\n",
    "                os.makedirs(test_class_folder, exist_ok=True)\n",
    "\n",
    "                # Move the files to the respective directories\n",
    "                for file in train_files:\n",
    "                    shutil.copy(file, train_class_folder)\n",
    "                for file in val_files:\n",
    "                    shutil.copy(file, val_class_folder)\n",
    "                for file in test_files:\n",
    "                    shutil.copy(file, test_class_folder)\n",
    "        \n",
    "            logger.info(\"The data has been split into train, validation, and test sets\")\n",
    "        finally:\n",
    "            self.stop_animation = True\n",
    "            animation_thread.join()\n",
    "            sys.stdout.write(\"\\rSplitting data complete.          \\n\")\n",
    "            sys.stdout.flush()\n",
    "\n",
    "    def train_test_set(self):\n",
    "        train_folder = self.config.train_dir\n",
    "        test_folder = self.config.test_dir\n",
    "        train_datagen = ImageDataGenerator(\n",
    "            rotation_range=40,\n",
    "            width_shift_range=0.2,\n",
    "            height_shift_range=0.2,\n",
    "            shear_range=0.2,\n",
    "            zoom_range=0.2,\n",
    "            horizontal_flip=True,\n",
    "            fill_mode='nearest',\n",
    "            rescale=1./255)\n",
    "        test_datagen = ImageDataGenerator(rescale=1./255)\n",
    "        logger.info(f\"-------The train and test datagen created-------\")\n",
    "        training_set = train_datagen.flow_from_directory(\n",
    "            train_folder,\n",
    "            target_size=(64, 64),\n",
    "            batch_size=32,\n",
    "            class_mode='categorical',\n",
    "            shuffle=True)\n",
    "        test_set = test_datagen.flow_from_directory(\n",
    "            test_folder,\n",
    "            target_size=(64, 64),\n",
    "            batch_size=32,\n",
    "            class_mode='categorical',\n",
    "            shuffle=False)  # Ensure the order of the test set remains the same\n",
    "        logger.info(f\"-------The test and train set created-------\")\n",
    "        return training_set, test_set"
   ]
  },
  {
   "cell_type": "code",
   "execution_count": 9,
   "metadata": {},
   "outputs": [
    {
     "name": "stdout",
     "output_type": "stream",
     "text": [
      "[2024-07-02 13:05:55,869: INFO: common: yaml file: config\\config.yaml loaded successfully]\n",
      "[2024-07-02 13:05:55,885: INFO: common: yaml file: params.yaml loaded successfully]\n",
      "[2024-07-02 13:05:55,886: INFO: common: created directory at: artifacts]\n",
      "[2024-07-02 13:05:55,886: INFO: common: created directory at: artifacts/data_preparation]\n",
      "[2024-07-02 13:05:55,886: INFO: 2474412924: Created validation, test, and train folders]\n",
      "Splitting the Data \\[2024-07-02 13:24:41,538: INFO: 2474412924: The data has been split into train, validation, and test sets]\n",
      "Splitting data complete.          \n",
      "[2024-07-02 13:24:41,573: INFO: 2474412924: -------The train and test datagen created-------]\n",
      "Found 52500 images belonging to 5 classes.\n",
      "Found 7500 images belonging to 5 classes.\n",
      "[2024-07-02 13:24:45,590: INFO: 2474412924: -------The test and train set created-------]\n"
     ]
    }
   ],
   "source": [
    "try:\n",
    "    config = ConfigureationManager()\n",
    "    data_preparation_config = config.get_data_preparation_config()\n",
    "    data_preparation = DataPreparation(config=data_preparation_config)\n",
    "    data_preparation.making_traintest_folder()\n",
    "    data_preparation.split_data()\n",
    "    training_set, test_set = data_preparation.train_test_set()\n",
    "except Exception as e:\n",
    "    raise e"
   ]
  }
 ],
 "metadata": {
  "kernelspec": {
   "display_name": "tf_env",
   "language": "python",
   "name": "python3"
  },
  "language_info": {
   "codemirror_mode": {
    "name": "ipython",
    "version": 3
   },
   "file_extension": ".py",
   "mimetype": "text/x-python",
   "name": "python",
   "nbconvert_exporter": "python",
   "pygments_lexer": "ipython3",
   "version": "3.9.0"
  }
 },
 "nbformat": 4,
 "nbformat_minor": 2
}
