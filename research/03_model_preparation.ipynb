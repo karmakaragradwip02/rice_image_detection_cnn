{
 "cells": [
  {
   "cell_type": "code",
   "execution_count": 1,
   "metadata": {},
   "outputs": [
    {
     "data": {
      "text/plain": [
       "'e:\\\\Deep Learning\\\\TENSORFLOW\\\\rice_image_detection'"
      ]
     },
     "execution_count": 1,
     "metadata": {},
     "output_type": "execute_result"
    }
   ],
   "source": [
    "import os\n",
    "os.chdir(\"../\")\n",
    "%pwd"
   ]
  },
  {
   "cell_type": "code",
   "execution_count": 2,
   "metadata": {},
   "outputs": [],
   "source": [
    "from dataclasses import dataclass\n",
    "from pathlib import Path\n",
    "\n",
    "@dataclass(frozen= True)\n",
    "class ModelPreparationConfig:\n",
    "    root_dir: Path\n",
    "    model_dir: Path\n",
    "    weight_decay: float\n",
    "    classes: int\n",
    "    input_image_size: list"
   ]
  },
  {
   "cell_type": "code",
   "execution_count": 3,
   "metadata": {},
   "outputs": [],
   "source": [
    "from src.RICE_IMAGE_DETECTION.constants import *\n",
    "from src.RICE_IMAGE_DETECTION.utils.common import read_yaml, create_directories"
   ]
  },
  {
   "cell_type": "code",
   "execution_count": 4,
   "metadata": {},
   "outputs": [],
   "source": [
    "class ConfigureationManager:\n",
    "    def __init__(self,\n",
    "            config_filepath = CONFIG_FILE_PATH,\n",
    "            params_filepath = PARAMS_FILE_PATH):\n",
    "        \n",
    "        self.config = read_yaml(config_filepath)\n",
    "        self.params = read_yaml(params_filepath)\n",
    "\n",
    "        create_directories([self.config.artifacts_root])\n",
    "\n",
    "    def get_model_preparation_config(self) -> ModelPreparationConfig:\n",
    "        config = self.config.prepare_model\n",
    "\n",
    "        create_directories([config.root_dir])\n",
    "\n",
    "        model_preparation_config = ModelPreparationConfig(\n",
    "            root_dir = Path(config.root_dir),\n",
    "            model_dir = Path(config.model_dir),\n",
    "            weight_decay = self.params.weight_decay,\n",
    "            classes = self.params.classes,\n",
    "            input_image_size= self.params.input_image_size\n",
    "        )\n",
    "\n",
    "        return model_preparation_config"
   ]
  },
  {
   "cell_type": "code",
   "execution_count": 5,
   "metadata": {},
   "outputs": [],
   "source": [
    "import os\n",
    "import tensorflow as tf\n",
    "from tensorflow import keras\n",
    "from src.RICE_IMAGE_DETECTION import logger"
   ]
  },
  {
   "cell_type": "code",
   "execution_count": 6,
   "metadata": {},
   "outputs": [],
   "source": [
    "class ModelPreparation:\n",
    "    def __init__(self, config: ModelPreparationConfig):\n",
    "        self.config = config\n",
    "\n",
    "    def model(self):\n",
    "        logger.info(f\"------------Model Preparation Started-------------\")\n",
    "        classes = self.config.classes\n",
    "        weight_decay = self.config.weight_decay\n",
    "        input_shape = self.config.input_image_size\n",
    "        cnn = tf.keras.models.Sequential([\n",
    "            tf.keras.layers.Conv2D(filters=32, kernel_size=3, activation='relu', input_shape=input_shape,\n",
    "                                kernel_regularizer=tf.keras.regularizers.l2(weight_decay)),\n",
    "            tf.keras.layers.MaxPool2D(pool_size=2, strides=2),\n",
    "            tf.keras.layers.Conv2D(filters=32, kernel_size=3, activation='relu',\n",
    "                                kernel_regularizer=tf.keras.regularizers.l2(weight_decay)),\n",
    "            tf.keras.layers.MaxPool2D(pool_size=2, strides=2),\n",
    "            tf.keras.layers.Flatten(),\n",
    "            tf.keras.layers.Dense(units=128, activation='relu',\n",
    "                                kernel_regularizer=tf.keras.regularizers.l2(weight_decay)),\n",
    "            tf.keras.layers.Dense(classes, activation='softmax')\n",
    "            ])\n",
    "        logger.info(f\"------------Model Preparation Ended-------------\")\n",
    "        return cnn\n",
    "    \n",
    "    def save_model(self, model):\n",
    "        model_dir = Path(self.config.model_dir)\n",
    "        model.save(model_dir)\n",
    "        logger.info(f\"---MODEL SAVED------\")\n"
   ]
  },
  {
   "cell_type": "code",
   "execution_count": 7,
   "metadata": {},
   "outputs": [
    {
     "name": "stdout",
     "output_type": "stream",
     "text": [
      "[2024-06-30 14:55:24,221: INFO: common: yaml file: config\\config.yaml loaded successfully]\n",
      "[2024-06-30 14:55:24,225: INFO: common: yaml file: params.yaml loaded successfully]\n",
      "[2024-06-30 14:55:24,225: INFO: common: created directory at: artifacts]\n",
      "[2024-06-30 14:55:24,225: INFO: common: created directory at: artifacts/prepare_model]\n",
      "[2024-06-30 14:55:24,225: INFO: 483240577: ------------Model Preparation Started-------------]\n",
      "[2024-06-30 14:55:24,502: INFO: 483240577: ------------Model Preparation Ended-------------]\n",
      "[2024-06-30 14:55:24,502: WARNING: saving_utils: Compiled the loaded model, but the compiled metrics have yet to be built. `model.compile_metrics` will be empty until you train or evaluate the model.]\n",
      "[2024-06-30 14:55:24,720: INFO: 483240577: ---MODEL SAVED------]\n",
      "[2024-06-30 14:55:24,721: INFO: 374100628: ---MODEL SUMMARY------]\n",
      "Model: \"sequential\"\n",
      "_________________________________________________________________\n",
      " Layer (type)                Output Shape              Param #   \n",
      "=================================================================\n",
      " conv2d (Conv2D)             (None, 62, 62, 32)        896       \n",
      "                                                                 \n",
      " max_pooling2d (MaxPooling2D  (None, 31, 31, 32)       0         \n",
      " )                                                               \n",
      "                                                                 \n",
      " conv2d_1 (Conv2D)           (None, 29, 29, 32)        9248      \n",
      "                                                                 \n",
      " max_pooling2d_1 (MaxPooling  (None, 14, 14, 32)       0         \n",
      " 2D)                                                             \n",
      "                                                                 \n",
      " flatten (Flatten)           (None, 6272)              0         \n",
      "                                                                 \n",
      " dense (Dense)               (None, 128)               802944    \n",
      "                                                                 \n",
      " dense_1 (Dense)             (None, 5)                 645       \n",
      "                                                                 \n",
      "=================================================================\n",
      "Total params: 813,733\n",
      "Trainable params: 813,733\n",
      "Non-trainable params: 0\n",
      "_________________________________________________________________\n",
      "[2024-06-30 14:55:24,739: INFO: 374100628: None]\n"
     ]
    }
   ],
   "source": [
    "try:\n",
    "    config = ConfigureationManager()\n",
    "    model_preparation_config = config.get_model_preparation_config()\n",
    "    model_preparation = ModelPreparation(config=model_preparation_config)\n",
    "    cnn = model_preparation.model()\n",
    "    model_preparation.save_model(cnn)\n",
    "    logger.info(f\"---MODEL SUMMARY------\")\n",
    "    logger.info(cnn.summary())\n",
    "except Exception as e:\n",
    "    raise e"
   ]
  }
 ],
 "metadata": {
  "kernelspec": {
   "display_name": "tf_env",
   "language": "python",
   "name": "python3"
  },
  "language_info": {
   "codemirror_mode": {
    "name": "ipython",
    "version": 3
   },
   "file_extension": ".py",
   "mimetype": "text/x-python",
   "name": "python",
   "nbconvert_exporter": "python",
   "pygments_lexer": "ipython3",
   "version": "3.9.0"
  }
 },
 "nbformat": 4,
 "nbformat_minor": 2
}
